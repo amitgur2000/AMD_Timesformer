{
 "cells": [
  {
   "cell_type": "code",
   "execution_count": 8,
   "id": "cfad281c",
   "metadata": {},
   "outputs": [],
   "source": [
    "import tqdm as notebook_tqdm\n",
    "from visualize import *"
   ]
  },
  {
   "cell_type": "markdown",
   "id": "edfab7fc",
   "metadata": {},
   "source": [
    "## Prepare data and model"
   ]
  },
  {
   "cell_type": "markdown",
   "id": "11271316",
   "metadata": {},
   "source": [
    "### Define arguments (paths to data, checkpoints)"
   ]
  },
  {
   "cell_type": "code",
   "execution_count": 9,
   "id": "4c265365",
   "metadata": {},
   "outputs": [
    {
     "name": "stdout",
     "output_type": "stream",
     "text": [
      "/home/agur/projects/AMD/AMD_Timesformer/test.csv\n"
     ]
    }
   ],
   "source": [
    "class Arguments:\n",
    "    cfg = \"/home/agur/projects/AMD/AMD_Timesformer/configs/AMD_OCT/TimeSformer_AMD_OCT_clasify_sevirity_TEST_1gpus.yaml\"\n",
    "    labels_path = \"/home/agur/projects/AMD/AMD_Timesformer/test.csv\"\n",
    "    model_path = \"checkpoints/checkpoint_epoch_00014.pyth\"\n",
    "    out_dir = \"\"\n",
    "    spatial_scale = 224\n",
    "    num_ensemble_views=1\n",
    "    num_frames=32\n",
    "    dataset_path = \"/DCAIOCTO/ModelDataZoo/datasets/AMD_data/WIP_vids_no_Fund/\"\n",
    "    video_ext = \".avi\"\n",
    "    sampling_rate = 6\n",
    "    class_col = 1 # \"AMD_STAGE\"  \"received biologic\"\n",
    "    collaterals_path =  \"/home/agur/projects/AMD/AMD_Timesformer/attentions_checkpoint_epoch_00014.pkl\" #'/home/agur/projects/AMD/AMD_Timesformer/checkpoints/attentions_ckpt_val.pkl'\n",
    "    ulcers_path = '/home/agur/projects/AMD/AMD_Timesformer'\n",
    "args = Arguments()\n",
    "print(args.labels_path)"
   ]
  },
  {
   "cell_type": "markdown",
   "id": "3d2e900e",
   "metadata": {},
   "source": [
    "### Load Visualizer"
   ]
  },
  {
   "cell_type": "code",
   "execution_count": 10,
   "id": "7255de0c",
   "metadata": {},
   "outputs": [
    {
     "name": "stdout",
     "output_type": "stream",
     "text": [
      "Loading metadata and ground truth from /home/agur/projects/AMD/AMD_Timesformer/test.csv...\n",
      "Loading ulcers jpg and pts from /home/agur/projects/AMD/AMD_Timesformer/*.jpg...\n",
      "Loading collaterals...\n",
      "Loading TimeSFormer model from checkpoints/checkpoint_epoch_00014.pyth with spatial scale: 224 and num frames: 32...\n"
     ]
    }
   ],
   "source": [
    "Viz = Visualizer(args)"
   ]
  },
  {
   "cell_type": "markdown",
   "id": "8aa0d2c0",
   "metadata": {},
   "source": [
    "### Select specific/interesting frames"
   ]
  },
  {
   "cell_type": "code",
   "execution_count": 11,
   "id": "cae2aa87",
   "metadata": {},
   "outputs": [
    {
     "name": "stdout",
     "output_type": "stream",
     "text": [
      "Video files: \n",
      " ['/DCAIOCTO/ModelDataZoo/datasets/AMD_data/WIP_vids_no_Fund/IA_03002/222328_767323_2017-09-27_12-24-39_R/AIA_03002_OD.avi', '/DCAIOCTO/ModelDataZoo/datasets/AMD_data/WIP_vids_no_Fund/IA_01246/52554_180762_2012-06-18_08-57-33_R/AIA_01246_OD.avi', '/DCAIOCTO/ModelDataZoo/datasets/AMD_data/WIP_vids_no_Fund/IA_03519/263007_911353_2018-09-04_16-22-01_L/AIA_03519_OS.avi']\n",
      "[(0, 31), (0, 31), (0, 31)]\n"
     ]
    }
   ],
   "source": [
    "import csv\n",
    "video_paths=[]\n",
    "labels_orig=[]\n",
    "with open(args.labels_path, 'r') as f:\n",
    "    file_name_and_ann=csv.reader(f, delimiter=' ')\n",
    "    for rows in file_name_and_ann:\n",
    "        video_paths.append(rows[0])\n",
    "        labels_orig.append(rows[1])\n",
    "print(\"Video files: \\n\", video_paths)\n",
    "num_videos=len(video_paths)\n",
    "pts_ = [(0, args.num_frames-1)] * num_videos\n",
    "print(pts_)\n"
   ]
  },
  {
   "cell_type": "code",
   "execution_count": 12,
   "id": "ef3133ef",
   "metadata": {},
   "outputs": [
    {
     "name": "stdout",
     "output_type": "stream",
     "text": [
      "In attentions index for video AIA_03002_OD is 0\n",
      "In attentions index for video AIA_01246_OD is 1\n",
      "In attentions index for video AIA_03519_OS is 2\n"
     ]
    },
    {
     "data": {
      "text/plain": [
       "[0, 1, 2]"
      ]
     },
     "execution_count": 12,
     "metadata": {},
     "output_type": "execute_result"
    }
   ],
   "source": [
    "Viz.generate_id_for_videos(video_paths)"
   ]
  },
  {
   "cell_type": "markdown",
   "id": "9f7788c9",
   "metadata": {},
   "source": [
    "## Visualizations"
   ]
  },
  {
   "cell_type": "markdown",
   "id": "3a51c94b",
   "metadata": {},
   "source": [
    "### Attentions visualizations"
   ]
  },
  {
   "cell_type": "code",
   "execution_count": 13,
   "id": "4acff643",
   "metadata": {},
   "outputs": [
    {
     "name": "stdout",
     "output_type": "stream",
     "text": [
      "1 9 (0, 31) 0\n",
      "1 9 (0, 31) 1\n",
      "1 9 (0, 31) 2\n"
     ]
    }
   ],
   "source": [
    "for layer, head in [(1,9)]:\n",
    "    video_list_indx = list(range(num_videos))\n",
    "    for vid_idx, pts in zip(video_list_indx, pts_):\n",
    "        print(layer, head, pts, vid_idx)"
   ]
  },
  {
   "cell_type": "code",
   "execution_count": null,
   "id": "be4a4a66",
   "metadata": {
    "scrolled": false
   },
   "outputs": [],
   "source": [
    "frame_idx_s=[12]\n",
    "only_cls = True\n",
    "video_list_indx=[0]\n",
    "list_layers_heads = [(a,b) for a in range(7) for b in range(7)] #[(1,9), (1,5),(3,7),(1,6)]\n",
    "for layer, head in list_layers_heads:\n",
    "    for vid_idx, pts in zip(video_list_indx, pts_):\n",
    "        for frame_idx in frame_idx_s:\n",
    "            # Viz.plot_attn('spatial', layer, head, vid_idx, -1, frame_idx, only_cls, start_pts=None, end_pts=None, direct=False)  #=pts[0], end_pts=pts[1], direct=False)\n",
    "            print(\"vid_idx:\", vid_idx, \" frame_idx:\", frame_idx, \" layer:\", layer,\" head:\", head, pts[0], pts[1])\n",
    "            Viz.plot_attn('spatial', layer, head, vid_idx, -1, frame_idx, only_cls, start_pts=pts[0], end_pts=pts[1], direct=False)            "
   ]
  },
  {
   "cell_type": "code",
   "execution_count": null,
   "id": "8a8d9406",
   "metadata": {
    "scrolled": false
   },
   "outputs": [],
   "source": [
    "vid_idx=6\n",
    "frame_idx=14\n",
    "for layer, head in [(3,8)]:\n",
    "        for vid_idx, pts in zip([6, 7], pts_):\n",
    "            Viz.plot_attn('spatial', layer, head, vid_idx, -1, frame_idx, only_cls, start_pts=pts[0], end_pts=pts[1], direct=True)\n"
   ]
  },
  {
   "cell_type": "code",
   "execution_count": null,
   "id": "41a9c95d",
   "metadata": {},
   "outputs": [],
   "source": [
    "frame_idx=14\n",
    "only_cls = False\n",
    "spatial_idx = 70\n",
    "for layer, head in [(3,7), (3,8)]:\n",
    "    for vid_idx, pts in zip(video_list_indx, pts_):\n",
    "        Viz.plot_attn('spatial', layer, head, vid_idx, spatial_idx, frame_idx, only_cls, start_pts=pts[0], end_pts=pts[1], direct=True)\n"
   ]
  },
  {
   "cell_type": "code",
   "execution_count": null,
   "id": "995a5d60",
   "metadata": {},
   "outputs": [],
   "source": [
    "start_pts = 0\n",
    "end_pts = 29\n",
    "layer =3\n",
    "head=8\n",
    "vid_idx =6\n",
    "spatial_idx = 75\n",
    "frame_idx = 14\n",
    "only_cls=False\n",
    "Viz.plot_attn('temporal', layer, head, vid_idx, spatial_idx, frame_idx, only_cls, start_pts=pts[0], end_pts=pts[1], direct=True)\n"
   ]
  },
  {
   "cell_type": "code",
   "execution_count": null,
   "id": "48f6fd87",
   "metadata": {},
   "outputs": [],
   "source": [
    "Viz.visualize_stats(attn_type='spatial', metric='std')"
   ]
  },
  {
   "cell_type": "code",
   "execution_count": null,
   "id": "c0c2b2c0",
   "metadata": {},
   "outputs": [],
   "source": [
    "Viz.visualize_stats(attn_type='spatial', metric='mean')"
   ]
  },
  {
   "cell_type": "code",
   "execution_count": null,
   "id": "7ad8d165",
   "metadata": {
    "scrolled": true
   },
   "outputs": [],
   "source": [
    "Viz.compute_heads_importance()"
   ]
  },
  {
   "cell_type": "markdown",
   "id": "c5e18486",
   "metadata": {},
   "source": [
    "### Hidden states visalizations"
   ]
  },
  {
   "cell_type": "code",
   "execution_count": null,
   "id": "2c29703b",
   "metadata": {},
   "outputs": [],
   "source": [
    "Viz.reduce_dim_and_plot(n_data_hiddenstates=-1, only_cls=True, reducer=\"both\")"
   ]
  },
  {
   "cell_type": "code",
   "execution_count": null,
   "id": "3f0b662d",
   "metadata": {},
   "outputs": [],
   "source": [
    "Viz.reduce_dim_and_plot(n_data_hiddenstates=2, only_cls=False, reducer=\"both\")"
   ]
  },
  {
   "cell_type": "code",
   "execution_count": null,
   "id": "bb97cead",
   "metadata": {},
   "outputs": [],
   "source": [
    "Viz.all_hidden_states.shape"
   ]
  },
  {
   "cell_type": "code",
   "execution_count": null,
   "id": "55a89e67",
   "metadata": {
    "scrolled": true
   },
   "outputs": [],
   "source": [
    "colored_by = 'pred'\n",
    "for layer in range(12):\n",
    "    plot_2d(Viz.df_patches, colored_by, layer)"
   ]
  },
  {
   "cell_type": "code",
   "execution_count": null,
   "id": "10370adb",
   "metadata": {
    "scrolled": true
   },
   "outputs": [],
   "source": [
    "colored_by = 'pixel_id'\n",
    "for layer in range(12):\n",
    "    plot_2d(Viz.df_patches, colored_by, layer)"
   ]
  },
  {
   "cell_type": "code",
   "execution_count": null,
   "id": "99b031a0",
   "metadata": {
    "scrolled": true
   },
   "outputs": [],
   "source": [
    "colored_by = 'pred'\n",
    "for layer in range(12):\n",
    "    plot_2d(Viz.df_cls, colored_by, layer)"
   ]
  },
  {
   "cell_type": "code",
   "execution_count": null,
   "id": "aacf09c7",
   "metadata": {
    "scrolled": true
   },
   "outputs": [],
   "source": [
    "colored_by = 'gt'\n",
    "for layer in range(12):\n",
    "    plot_2d(Viz.df_cls, colored_by, layer)"
   ]
  },
  {
   "cell_type": "code",
   "execution_count": null,
   "id": "18f80ee5",
   "metadata": {},
   "outputs": [],
   "source": [
    "colored_by = 'ex_idx'\n",
    "for layer in range(12):\n",
    "    plot_2d(Viz.df_cls, colored_by, layer)"
   ]
  },
  {
   "cell_type": "code",
   "execution_count": null,
   "id": "63a49d7f",
   "metadata": {},
   "outputs": [],
   "source": []
  }
 ],
 "metadata": {
  "kernelspec": {
   "display_name": "timesformer",
   "language": "python",
   "name": "python3"
  },
  "language_info": {
   "codemirror_mode": {
    "name": "ipython",
    "version": 3
   },
   "file_extension": ".py",
   "mimetype": "text/x-python",
   "name": "python",
   "nbconvert_exporter": "python",
   "pygments_lexer": "ipython3",
   "version": "3.7.12"
  },
  "vscode": {
   "interpreter": {
    "hash": "abfb117d621bc7d06fc186487ff80f3f7d7bc06d7753aa2c6a5f91d4b9617ba1"
   }
  }
 },
 "nbformat": 4,
 "nbformat_minor": 5
}
